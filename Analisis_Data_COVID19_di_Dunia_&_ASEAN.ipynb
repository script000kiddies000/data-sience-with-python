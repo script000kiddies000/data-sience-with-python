{
  "nbformat": 4,
  "nbformat_minor": 0,
  "metadata": {
    "kernelspec": {
      "display_name": "Python 3",
      "language": "python",
      "name": "python3"
    },
    "language_info": {
      "codemirror_mode": {
        "name": "ipython",
        "version": 3
      },
      "file_extension": ".py",
      "mimetype": "text/x-python",
      "name": "python",
      "nbconvert_exporter": "python",
      "pygments_lexer": "ipython3",
      "version": "3.8.6"
    },
    "colab": {
      "name": "Analisis Data COVID19 di Dunia & ASEAN.ipynb",
      "provenance": [],
      "collapsed_sections": [],
      "include_colab_link": true
    }
  },
  "cells": [
    {
      "cell_type": "markdown",
      "metadata": {
        "id": "view-in-github",
        "colab_type": "text"
      },
      "source": [
        "<a href=\"https://colab.research.google.com/github/script000kiddies000/data-sience-with-python/blob/main/Analisis_Data_COVID19_di_Dunia_%26_ASEAN.ipynb\" target=\"_parent\"><img src=\"https://colab.research.google.com/assets/colab-badge.svg\" alt=\"Open In Colab\"/></a>"
      ]
    },
    {
      "cell_type": "markdown",
      "metadata": {
        "id": "qDol2i_ioImn"
      },
      "source": [
        "<div id=\"theory\"><h2>Pendahuluan</h2><p>Covid19 adalah pandemi yang sudah mewabah ke seluruh dunia. Sebagian besar negara-negara di dunia sudah terjangkit. Penanganan tiap-tiap negara pun berbeda, sesuai dengan kebijakan pemerintah. Hal ini mengakibatkan perbedaan trend kenaikan atau penurunan kasus covid berbeda-beda tiap negara.</p>\n",
        "<p>Pada kasus kali ini, kita akan mencoba menggali data covid19 dari salah satu open api yang tersedia yaitu <a href=\"https://covid19-api.org/\">https://covid19-api.org/</a>.</p>\n",
        "<p>&nbsp;</p>\n",
        "<p>&nbsp;</p>\n"
      ]
    },
    {
      "cell_type": "markdown",
      "metadata": {
        "id": "GOc0uthMoImo"
      },
      "source": [
        "<div id=\"theorycontent\" style=\"overflow-x: scroll; display: block;\"><h2>Library yang dibutuhkan</h2><p>Pertama-tama, import terlebih dahulu library yang dibutuhkan, antara lain secara berurutan adalah</p>\n",
        "<ul>\n",
        "<li>json,</li>\n",
        "<li>numpy,</li>\n",
        "<li>pandas, dan</li>\n",
        "<li>requests.</li>\n",
        "</ul>\n",
        "<p>Library numpy dan pandas diimport sebagai aliasnya.</p>\n",
        "<p>&nbsp;</p>\n"
      ]
    },
    {
      "cell_type": "code",
      "metadata": {
        "id": "S2w7sE87oImp"
      },
      "source": [
        "import json\n",
        "import numpy as np\n",
        "import pandas as pd\n",
        "import requests"
      ],
      "execution_count": 1,
      "outputs": []
    },
    {
      "cell_type": "markdown",
      "metadata": {
        "id": "6Vq-rUsVoImp"
      },
      "source": [
        "<div id=\"theorycontent\"><h2>Membuat Fungsi get API</h2><p>Buat fungsi python <strong>get_json</strong> dengan parameter <strong>api_url</strong>. fungsi ini akan mengembalikan value berupa python dictionary jika <strong>status_code</strong> yang dihasilkan adalah 200. Jika tidak, maka value yang dikembalikan adalah <strong>None</strong>.</p>\n",
        "<p>&nbsp;</p>\n",
        "<p>&nbsp;</p>\n"
      ]
    },
    {
      "cell_type": "code",
      "metadata": {
        "id": "GQZXew4goImp"
      },
      "source": [
        "def get_json(api_url):\n",
        "\tresponse = requests.get(api_url)\n",
        "\tif response.status_code == 200:\n",
        "\t\treturn json.loads(response.content.decode('utf-8'))\n",
        "\telse:\n",
        "\t\treturn None"
      ],
      "execution_count": 2,
      "outputs": []
    },
    {
      "cell_type": "markdown",
      "metadata": {
        "id": "58orU1sCoImr"
      },
      "source": [
        "<div id=\"theorycontent\"><h2>Memanggil API Covid19</h2><p>Rekapitulasi data COVID-19 global berada di <a href=\"https://covid19-api.org/\">https://covid19-api.org/</a>. Gunakan parameter record_date untuk mengambil data covid19 di seluruh negara pada tanggal tertentu. Untuk kasus ini, gunakan record_date '2020-08-17', dan masukkan hasil respon api ke variable df_covid_worldwide.</p>\n",
        "<p>Untuk mendapatkan dataframe covid19, gunakan fungsi pd.io.json.json_normalize dan panggil function yang sudah dibuat sebelumnya, yaitu get_json() Print sample data covid dengan menggunakan head() function.</p>\n"
      ]
    },
    {
      "cell_type": "code",
      "metadata": {
        "colab": {
          "base_uri": "https://localhost:8080/"
        },
        "id": "wpnyE9f4oImr",
        "outputId": "f3f12f26-e2bc-4c49-8c53-9b8ac3756ccb"
      },
      "source": [
        "record_date = '2020-08-17'\n",
        "covid_url = 'https://covid19-api.org/api/status?date='+record_date\n",
        "df_covid_worldwide = pd.io.json.json_normalize(get_json(covid_url))\n",
        "\n",
        "print(df_covid_worldwide.head())"
      ],
      "execution_count": 3,
      "outputs": [
        {
          "output_type": "stream",
          "text": [
            "  country          last_update    cases  deaths  recovered\n",
            "0      US  2020-08-16T23:27:50  5401167  170019    1833067\n",
            "1      BR  2020-08-16T23:27:50  3340197  107852    2655017\n",
            "2      IN  2020-08-16T23:27:50  2589682   49980    1862258\n",
            "3      RU  2020-08-16T23:27:50   920719   15653     731444\n",
            "4      ZA  2020-08-16T23:27:50   587345   11839     472377\n"
          ],
          "name": "stdout"
        },
        {
          "output_type": "stream",
          "text": [
            "/usr/local/lib/python3.6/dist-packages/ipykernel_launcher.py:3: FutureWarning: pandas.io.json.json_normalize is deprecated, use pandas.json_normalize instead\n",
            "  This is separate from the ipykernel package so we can avoid doing imports until\n"
          ],
          "name": "stderr"
        }
      ]
    },
    {
      "cell_type": "markdown",
      "metadata": {
        "id": "sA4lZ53goImu"
      },
      "source": [
        "<div id=\"theorycontent\"><h2>Merubah Format date</h2><p>Ubah format kolom 'last_update' menggunakan fungsi to_datetime dengan format <strong>YYYY-mm-dd HH:MM:SS</strong>. Lalu ubah bentuk datetime ke bentuk date dengan fungsi date() melalui fungsi lambda untuk mengubah setiap row-nya.</p>\n",
        "<p>&nbsp;</p>\n",
        "<p>&nbsp;</p>"
      ]
    },
    {
      "cell_type": "code",
      "metadata": {
        "id": "XJi1uuaDoImv"
      },
      "source": [
        "df_covid_worldwide['last_update'] = pd.to_datetime(df_covid_worldwide['last_update'], format='%Y-%m-%d %H:%M:%S')\n",
        "df_covid_worldwide['last_update'] = df_covid_worldwide['last_update'].apply(lambda x: x.date())"
      ],
      "execution_count": 4,
      "outputs": []
    },
    {
      "cell_type": "markdown",
      "metadata": {
        "id": "JhonGMVQoImw"
      },
      "source": [
        "<div id=\"theorycontent\"><h2>Mengambil Data Countries</h2><p>Buatlah dataframe countries dengan memanggil variable countries_url ke api covid19-api.org. Lalu ubah nama kolom alpha2 menjadi country, kemudian ambil hanya kolom name dan country saja untuk dataframe countries (df_countries) ini.</p>\n",
        "<p>Akhirnya cetaklah lima data teratas dari dataframe countries (df_countries).</p>\n",
        "<p>&nbsp;</p>\n",
        "<p>&nbsp;</p>\n"
      ]
    },
    {
      "cell_type": "code",
      "metadata": {
        "colab": {
          "base_uri": "https://localhost:8080/"
        },
        "id": "6JBadBMToImx",
        "outputId": "77e3d649-aa9c-4fc1-9bf5-564c8a27f4d3"
      },
      "source": [
        "\n",
        "\n",
        "countries_url = 'https://covid19-api.org/api/countries'\n",
        "df_countries = pd.io.json.json_normalize(get_json(countries_url))\n",
        "df_countries = df_countries.rename(columns={'alpha2': 'country'})[['name','country']]\n",
        "\n",
        "print(df_countries.head())"
      ],
      "execution_count": 5,
      "outputs": [
        {
          "output_type": "stream",
          "text": [
            "          name country\n",
            "0  Afghanistan      AF\n",
            "1      Albania      AL\n",
            "2      Algeria      DZ\n",
            "3      Andorra      AD\n",
            "4       Angola      AO\n"
          ],
          "name": "stdout"
        },
        {
          "output_type": "stream",
          "text": [
            "/usr/local/lib/python3.6/dist-packages/ipykernel_launcher.py:4: FutureWarning: pandas.io.json.json_normalize is deprecated, use pandas.json_normalize instead\n",
            "  after removing the cwd from sys.path.\n"
          ],
          "name": "stderr"
        }
      ]
    },
    {
      "cell_type": "markdown",
      "metadata": {
        "id": "A1NboGhZoIm1"
      },
      "source": [
        "<div id=\"theorycontent\"><h2>Merge Covid19 Data dan Countries</h2><p>Selanjutnya adalah mapping data covid19 dan data country. Gunakan fungsi merge pada pandas untuk menggabungkan df_covid_worldwide dan df_countries. Untuk merge, gunakan kolom country. Lalu print sample data dengan menggunakan head().</p>\n",
        "<p>&nbsp;</p>\n",
        "<p>&nbsp;</p>"
      ]
    },
    {
      "cell_type": "code",
      "metadata": {
        "colab": {
          "base_uri": "https://localhost:8080/"
        },
        "id": "vhKlL2zzoIm1",
        "outputId": "d9155453-986e-4f02-ebc3-53761ab12612"
      },
      "source": [
        "df_covid_denormalized = pd.merge(df_covid_worldwide, df_countries, on='country')\n",
        "\n",
        "print(df_covid_denormalized.head())"
      ],
      "execution_count": 6,
      "outputs": [
        {
          "output_type": "stream",
          "text": [
            "  country last_update    cases  deaths  recovered                      name\n",
            "0      US  2020-08-16  5401167  170019    1833067  United States of America\n",
            "1      BR  2020-08-16  3340197  107852    2655017                    Brazil\n",
            "2      IN  2020-08-16  2589682   49980    1862258                     India\n",
            "3      RU  2020-08-16   920719   15653     731444        Russian Federation\n",
            "4      ZA  2020-08-16   587345   11839     472377              South Africa\n"
          ],
          "name": "stdout"
        }
      ]
    },
    {
      "cell_type": "markdown",
      "metadata": {
        "id": "k_JhqQ7eoIm2"
      },
      "source": [
        "<div id=\"theorycontent\" ><h2>Menghitung Fatality Ratio</h2><p>Tambahkan satu kolom tambahan yaitu fatality_ratio, yang merupakan pembagian antara kolom deaths dan cases.</p>\n",
        "<p>&nbsp;</p>\n",
        "<p>&nbsp;</p>\n"
      ]
    },
    {
      "cell_type": "code",
      "metadata": {
        "id": "pGXb_VoPoIm2"
      },
      "source": [
        "df_covid_denormalized['fatality_ratio'] = df_covid_denormalized['deaths'] / df_covid_denormalized['cases']"
      ],
      "execution_count": 7,
      "outputs": []
    },
    {
      "cell_type": "markdown",
      "metadata": {
        "id": "BnL-5P5MoIm3"
      },
      "source": [
        "<h2>Negara-negara dengan Fatality Ratio Tertinggi</h2><p>Ambil top 20 negara dengan value kolom fatality_ratio tertinggi dengan menggunakan fungsi sort_values.</p>\n",
        "<p>&nbsp;</p>\n",
        "<p>&nbsp;</p>"
      ]
    },
    {
      "cell_type": "code",
      "metadata": {
        "id": "Nbh8QbQyoIm3"
      },
      "source": [
        "df_top_20_fatality_rate = df_covid_denormalized.sort_values(by='fatality_ratio', ascending=False).head(20)"
      ],
      "execution_count": 8,
      "outputs": []
    },
    {
      "cell_type": "markdown",
      "metadata": {
        "id": "DA8mmaoxoIm3"
      },
      "source": [
        "<h2>Import Library Visualisasi</h2><p>Importlah library matplotlib.pyplot sebagai aliasnya plt.</p>\n",
        "<p>&nbsp;</p>\n",
        "<p>&nbsp;</p>"
      ]
    },
    {
      "cell_type": "code",
      "metadata": {
        "id": "TUXGlKN9oIm3"
      },
      "source": [
        "import matplotlib.pyplot as plt"
      ],
      "execution_count": 9,
      "outputs": []
    },
    {
      "cell_type": "markdown",
      "metadata": {
        "id": "9JwuIP4SoIm3"
      },
      "source": [
        "<h2>Visualisasi Negara dengan Fatality Ratio Tertinggi</h2><p>Untuk memvisualisasikan negara-negara dengan kasus fatality rate tertinggi akibat covid-19 ini dapat dilakukan dengan menggunakan bar chart.&nbsp; Di sini tentukan terlebih dahulu isi dari variable x axis dan y axis.</p>\n",
        "<p>Variabel x axis adalah kolom <strong>name</strong>, dan kolom y atau value nya adalah kolom <strong>fatality_ratio</strong> dan gunakan fungsi plt.bar([value x axis, value y axis]).</p>\n",
        "<p>Label sumbu x diputar 90 derajat untuk menghindari bertumpuknya nama-nama negara pada posisi 0 derajat.</p>\n",
        "<p>&nbsp;</p>\n",
        "<p>&nbsp;</p>"
      ]
    },
    {
      "cell_type": "code",
      "metadata": {
        "colab": {
          "base_uri": "https://localhost:8080/",
          "height": 585
        },
        "id": "CDDWZX6UoIm3",
        "outputId": "420295b0-1e33-434e-b712-4e48765e5d29"
      },
      "source": [
        "import matplotlib.pyplot as plt\n",
        "plt.figure(figsize=(20, 8))\n",
        "x = df_top_20_fatality_rate['name']\n",
        "y = df_top_20_fatality_rate['fatality_ratio']\n",
        "plt.bar(x,y)\n",
        "plt.xlabel('Country Name')\n",
        "plt.ylabel('Fatality Rate')\n",
        "plt.title('Top 20 Highest Fatality Rate Countries')\n",
        "plt.xticks(rotation=90)\n",
        "plt.tight_layout()\n",
        "plt.show()"
      ],
      "execution_count": 10,
      "outputs": [
        {
          "output_type": "display_data",
          "data": {
            "image/png": "[encoded data removed]",
            "text/plain": [
              "<Figure size 1440x576 with 1 Axes>"
            ]
          },
          "metadata": {
            "tags": [],
            "needs_background": "light"
          }
        }
      ]
    },
    {
      "cell_type": "markdown",
      "metadata": {
        "id": "hJB8FriNoIm6"
      },
      "source": [
        "<div id=\"theorycontent\"><h2>Menggabungkan Dataframe</h2><p>Selanjutnya adalah membandingkan kasus covid19 di Indonesia (ID) dengan negara-negara tetangga, yaitu:</p>\n",
        "<ul>\n",
        "<li>MY -&gt; Malaysia,</li>\n",
        "<li>SG -&gt; Singapure,</li>\n",
        "<li>TH -&gt; Thailand,</li>\n",
        "<li>VN -&gt; Vietnam.</li>\n",
        "</ul>\n",
        "<p>Untuk itu, api country dipanggil berkali-kali sebanyak negara yang akan kita bandingkan.</p>\n",
        "<p>Gunakan fungsi pd.io.json.json_normalize dan panggil function yang sudah dibuat sebelumnya, yaitu get_json().</p>\n",
        "<p>Gunakan fungsi datetime untuk merubah string ke bentuk datetime (YYYY-mm-dd HH:MM:SS) yang selanjutnya diubah ke format date.</p>\n",
        "<p>Cetaklah lima data teratas dari dataframe yang telah dibentuk.</p>\n",
        "<p>&nbsp;</p>\n",
        "<p>&nbsp;</p>\n"
      ]
    },
    {
      "cell_type": "code",
      "metadata": {
        "colab": {
          "base_uri": "https://localhost:8080/"
        },
        "id": "T4HZbFn1oIm7",
        "outputId": "dc58e2ec-d883-4147-fd41-a8d9ce40ecef"
      },
      "source": [
        "countries = ['ID','MY','SG','TH','VN']\n",
        "i = 0\n",
        "for country in countries:\n",
        "  covid_timeline_url = 'https://covid19-api.org/api/timeline/'+country\n",
        "  df_covid_timeline = pd.io.json.json_normalize(get_json(covid_timeline_url))\n",
        "  df_covid_timeline['last_update'] = pd.to_datetime(df_covid_timeline['last_update'], format='%Y-%m-%dT%H:%M:%S')\n",
        "  df_covid_timeline['last_update'] = df_covid_timeline['last_update'].apply(lambda x: x.date())\n",
        "  if i==0:\n",
        "    df_covid_timeline_merged = df_covid_timeline\n",
        "  else:\n",
        "    df_covid_timeline_merged = df_covid_timeline.append(df_covid_timeline_merged, ignore_index=True)\n",
        "  i=i+1\n",
        "\n",
        "print(df_covid_timeline_merged.head())"
      ],
      "execution_count": 11,
      "outputs": [
        {
          "output_type": "stream",
          "text": [
            "/usr/local/lib/python3.6/dist-packages/ipykernel_launcher.py:5: FutureWarning: pandas.io.json.json_normalize is deprecated, use pandas.json_normalize instead\n",
            "  \"\"\"\n"
          ],
          "name": "stderr"
        },
        {
          "output_type": "stream",
          "text": [
            "  country last_update  cases  deaths  recovered\n",
            "0      VN  2020-12-07   1366      35       1220\n",
            "1      VN  2020-12-06   1366      35       1220\n",
            "2      VN  2020-12-05   1365      35       1220\n",
            "3      VN  2020-12-04   1361      35       1220\n",
            "4      VN  2020-12-03   1361      35       1209\n"
          ],
          "name": "stdout"
        }
      ]
    },
    {
      "cell_type": "markdown",
      "metadata": {
        "id": "Kbvy9DHQoIm9"
      },
      "source": [
        "<h2>Merge Data Covid19 Dengan Data Country</h2><p>Lalu gabungkan df_covid_timeline_merged dengan df_countries dengan kolom country sebagai pivot.</p>\n",
        "<p>&nbsp;</p>\n",
        "<p>&nbsp;</p>"
      ]
    },
    {
      "cell_type": "code",
      "metadata": {
        "id": "-isbUHuBoIm9"
      },
      "source": [
        "df_covid_timeline_denormalized = pd.merge(df_covid_timeline_merged, df_countries, on='country')"
      ],
      "execution_count": 12,
      "outputs": []
    },
    {
      "cell_type": "markdown",
      "metadata": {
        "id": "bXoY5kHMoIm9"
      },
      "source": [
        "<h2>Kasus Covid-19 di ASEAN pada Bulan Maret 2020</h2><p>Filter kolom last_update dari data covid19 sehingga hanya data dari tanggal 1 Maret 2020 ke atas yangdiambil. Format datetime.date menggunakan format YYYY, mm, dd.</p>\n",
        "<p>&nbsp;</p>\n",
        "<p>&nbsp;</p>"
      ]
    },
    {
      "cell_type": "code",
      "metadata": {
        "id": "M9HqLYPAoIm9"
      },
      "source": [
        "import datetime\n",
        "df_covid_timeline_denormalized = df_covid_timeline_denormalized[(df_covid_timeline_denormalized['last_update'] >= datetime.date(2020, 3, 1))]"
      ],
      "execution_count": 13,
      "outputs": []
    },
    {
      "cell_type": "markdown",
      "metadata": {
        "id": "W_FiyXDeoIm9"
      },
      "source": [
        "<h2>Visualisasi Kasus Covid-19 di ASEAN</h2><p>Buat variable x dan y dimana x adalah tanggal (last_update) pada tiap-tiap negara dan y adalah jumlah kasus (cases) pada tiap-tiap negara. Lalu plot x dan y untuk menggambar line chart.</p>\n",
        "<p>&nbsp;</p>\n",
        "<p>&nbsp;</p>"
      ]
    },
    {
      "cell_type": "code",
      "metadata": {
        "colab": {
          "base_uri": "https://localhost:8080/",
          "height": 295
        },
        "id": "bG0ocHHXoIm9",
        "outputId": "8955193e-e517-433c-cd6f-1c026ea64730"
      },
      "source": [
        "\n",
        "\n",
        "import matplotlib.pyplot as plt\n",
        "plt.clf()\n",
        "countries = ['ID','MY','SG','TH','VN']\n",
        "for country in countries:\n",
        "  country_data = df_covid_timeline_denormalized['country']==country\n",
        "  x = df_covid_timeline_denormalized[country_data]['last_update']\n",
        "  y = df_covid_timeline_denormalized[country_data]['cases']\n",
        "  plt.plot(x, y, label = country)\n",
        "\n",
        "plt.legend()\n",
        "plt.xlabel('Record Date')\n",
        "plt.ylabel('Total Cases')\n",
        "plt.title('Asean Covid19 Cases Comparison')\n",
        "plt.show()"
      ],
      "execution_count": 14,
      "outputs": [
        {
          "output_type": "display_data",
          "data": {
            "image/png": "[encoded data removed]",
            "text/plain": [
              "<Figure size 432x288 with 1 Axes>"
            ]
          },
          "metadata": {
            "tags": [],
            "needs_background": "light"
          }
        }
      ]
    },
    {
      "cell_type": "code",
      "metadata": {
        "id": "hgdvAzvuoIm_"
      },
      "source": [
        ""
      ],
      "execution_count": 14,
      "outputs": []
    }
  ]
}